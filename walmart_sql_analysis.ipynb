{
 "cells": [
  {
   "cell_type": "markdown",
   "id": "8fa03e79",
   "metadata": {},
   "source": [
    "### ❓ Revenue trends across branches and categories"
   ]
  },
  {
   "cell_type": "code",
   "execution_count": null,
   "id": "a35ef850",
   "metadata": {},
   "outputs": [],
   "source": [
    "SELECT \n",
    "    Branch,\n",
    "    category,\n",
    "    SUM(CAST(REPLACE(unit_price, '$', '') AS DECIMAL(10,2)) * quantity) AS total_revenue\n",
    "FROM walmart_sales\n",
    "GROUP BY Branch, category\n",
    "ORDER BY total_revenue DESC;"
   ]
  },
  {
   "cell_type": "markdown",
   "id": "7645945f",
   "metadata": {},
   "source": [
    "### ❓ Identifying best-selling product categories"
   ]
  },
  {
   "cell_type": "code",
   "execution_count": null,
   "id": "f9ec8178",
   "metadata": {},
   "outputs": [],
   "source": [
    "SELECT \n",
    "    category,\n",
    "    SUM(quantity) AS total_units_sold\n",
    "FROM walmart_sales\n",
    "GROUP BY category\n",
    "ORDER BY total_units_sold DESC\n",
    "LIMIT 5;"
   ]
  },
  {
   "cell_type": "markdown",
   "id": "dd272502",
   "metadata": {},
   "source": [
    "### ❓ Sales performance by time, city, and payment method"
   ]
  },
  {
   "cell_type": "code",
   "execution_count": null,
   "id": "87cf8c49",
   "metadata": {},
   "outputs": [],
   "source": [
    "SELECT \n",
    "    City,\n",
    "    payment_method,\n",
    "    DATE_FORMAT(STR_TO_DATE(date, '%d/%m/%y'), '%Y-%m') AS month,\n",
    "    SUM(CAST(REPLACE(unit_price, '$', '') AS DECIMAL(10,2)) * quantity) AS monthly_sales\n",
    "FROM walmart_sales\n",
    "GROUP BY City, payment_method, month\n",
    "ORDER BY City, month;"
   ]
  },
  {
   "cell_type": "markdown",
   "id": "76fc0f00",
   "metadata": {},
   "source": [
    "### ❓ Analyzing peak sales periods and customer buying patterns"
   ]
  },
  {
   "cell_type": "code",
   "execution_count": null,
   "id": "e7632c13",
   "metadata": {},
   "outputs": [],
   "source": [
    "SELECT \n",
    "    HOUR(STR_TO_DATE(time, '%H:%i:%s')) AS sales_hour,\n",
    "    SUM(quantity) AS total_units_sold\n",
    "FROM walmart_sales\n",
    "GROUP BY sales_hour\n",
    "ORDER BY total_units_sold DESC;"
   ]
  },
  {
   "cell_type": "markdown",
   "id": "bf91dbc4",
   "metadata": {},
   "source": [
    "### ❓ Profit margin analysis by branch and category"
   ]
  },
  {
   "cell_type": "code",
   "execution_count": null,
   "id": "588e51ef",
   "metadata": {},
   "outputs": [],
   "source": [
    "SELECT \n",
    "    Branch,\n",
    "    category,\n",
    "    ROUND(AVG(profit_margin), 2) AS avg_profit_margin,\n",
    "    SUM(CAST(REPLACE(unit_price, '$', '') AS DECIMAL(10,2)) * quantity * profit_margin) AS total_profit\n",
    "FROM walmart_sales\n",
    "GROUP BY Branch, category\n",
    "ORDER BY total_profit DESC;"
   ]
  },
  {
   "cell_type": "markdown",
   "id": "8f0a9161",
   "metadata": {},
   "source": [
    "### ❓ Which city generates the highest average revenue per transaction?"
   ]
  },
  {
   "cell_type": "code",
   "execution_count": null,
   "id": "02e2d71f",
   "metadata": {},
   "outputs": [],
   "source": [
    "SELECT \n",
    "    City,\n",
    "    ROUND(AVG(CAST(REPLACE(unit_price, '$', '') AS DECIMAL(10,2)) * quantity), 2) AS avg_revenue_per_transaction\n",
    "FROM walmart_sales\n",
    "GROUP BY City\n",
    "ORDER BY avg_revenue_per_transaction DESC;"
   ]
  },
  {
   "cell_type": "markdown",
   "id": "eb84608c",
   "metadata": {},
   "source": [
    "### ❓ Top 3 product categories with the highest profit contribution overall"
   ]
  },
  {
   "cell_type": "code",
   "execution_count": null,
   "id": "9f53083d",
   "metadata": {},
   "outputs": [],
   "source": [
    "SELECT \n",
    "    category,\n",
    "    SUM(CAST(REPLACE(unit_price, '$', '') AS DECIMAL(10,2)) * quantity * profit_margin) AS total_profit\n",
    "FROM walmart_sales\n",
    "GROUP BY category\n",
    "ORDER BY total_profit DESC\n",
    "LIMIT 3;"
   ]
  },
  {
   "cell_type": "markdown",
   "id": "1ff4233b",
   "metadata": {},
   "source": [
    "### ❓ Monthly revenue trends per branch"
   ]
  },
  {
   "cell_type": "code",
   "execution_count": null,
   "id": "e4d0e993",
   "metadata": {},
   "outputs": [],
   "source": [
    "SELECT \n",
    "    Branch,\n",
    "    DATE_FORMAT(STR_TO_DATE(date, '%d/%m/%y'), '%Y-%m') AS month,\n",
    "    SUM(CAST(REPLACE(unit_price, '$', '') AS DECIMAL(10,2)) * quantity) AS monthly_revenue\n",
    "FROM walmart_sales\n",
    "GROUP BY Branch, month\n",
    "ORDER BY Branch, month;"
   ]
  },
  {
   "cell_type": "markdown",
   "id": "d204c114",
   "metadata": {},
   "source": [
    "### ❓ Which payment method is most profitable across all cities?"
   ]
  },
  {
   "cell_type": "code",
   "execution_count": null,
   "id": "1b83daee",
   "metadata": {},
   "outputs": [],
   "source": [
    "SELECT \n",
    "    payment_method,\n",
    "    SUM(CAST(REPLACE(unit_price, '$', '') AS DECIMAL(10,2)) * quantity * profit_margin) AS total_profit\n",
    "FROM walmart_sales\n",
    "GROUP BY payment_method\n",
    "ORDER BY total_profit DESC;"
   ]
  },
  {
   "cell_type": "markdown",
   "id": "6bee4563",
   "metadata": {},
   "source": [
    "### ❓ Identify products (categories) with highest sales growth month-over-month"
   ]
  },
  {
   "cell_type": "code",
   "execution_count": null,
   "id": "abfdff43",
   "metadata": {},
   "outputs": [],
   "source": [
    "WITH monthly_sales AS (\n",
    "    SELECT \n",
    "        category,\n",
    "        DATE_FORMAT(STR_TO_DATE(date, '%d/%m/%y'), '%Y-%m') AS month,\n",
    "        SUM(CAST(REPLACE(unit_price, '$', '') AS DECIMAL(10,2)) * quantity) AS revenue\n",
    "    FROM walmart_sales\n",
    "    GROUP BY category, month\n",
    ")\n",
    "SELECT \n",
    "    m1.category,\n",
    "    m1.month,\n",
    "    (m1.revenue - COALESCE(m2.revenue,0)) AS revenue_growth\n",
    "FROM monthly_sales m1\n",
    "LEFT JOIN monthly_sales m2\n",
    "    ON m1.category = m2.category\n",
    "   AND DATE_SUB(STR_TO_DATE(m1.month, '%Y-%m'), INTERVAL 1 MONTH) = STR_TO_DATE(m2.month, '%Y-%m')\n",
    "ORDER BY revenue_growth DESC;"
   ]
  }
 ],
 "metadata": {},
 "nbformat": 4,
 "nbformat_minor": 5
}